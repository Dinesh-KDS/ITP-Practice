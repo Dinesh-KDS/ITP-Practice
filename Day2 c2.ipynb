{
 "cells": [
  {
   "cell_type": "markdown",
   "id": "bcb6661e",
   "metadata": {},
   "source": [
    "# Day 2 List Comprehension"
   ]
  },
  {
   "cell_type": "markdown",
   "id": "0cd4fe8b",
   "metadata": {},
   "source": [
    "### Defining a list using for loop"
   ]
  },
  {
   "cell_type": "code",
   "execution_count": 1,
   "id": "1c53b4c4",
   "metadata": {},
   "outputs": [
    {
     "name": "stdout",
     "output_type": "stream",
     "text": [
      "665\n",
      "660\n",
      "770\n",
      "1160\n",
      "625\n",
      "3265\n"
     ]
    }
   ],
   "source": [
    "Product_Price = [133,132,154,232,125,653]\n",
    "\n",
    "for every_product in Product_Price:\n",
    "    print(every_product*5)"
   ]
  },
  {
   "cell_type": "code",
   "execution_count": 2,
   "id": "3ce0fa55",
   "metadata": {},
   "outputs": [
    {
     "data": {
      "text/plain": [
       "[665, 660, 770, 1160, 625, 3265]"
      ]
     },
     "execution_count": 2,
     "metadata": {},
     "output_type": "execute_result"
    }
   ],
   "source": [
    "#### Using List Comprehension\n",
    "Product_Price = [133,132,154,232,125,653]\n",
    "\n",
    "[ every_product*5     for every_product in Product_Price]"
   ]
  },
  {
   "cell_type": "code",
   "execution_count": null,
   "id": "4baf1fcb",
   "metadata": {},
   "outputs": [],
   "source": []
  },
  {
   "cell_type": "code",
   "execution_count": 4,
   "id": "1aa08fb3",
   "metadata": {},
   "outputs": [
    {
     "data": {
      "text/plain": [
       "['A', 'A', 'B', 'D', 'E']"
      ]
     },
     "execution_count": 4,
     "metadata": {},
     "output_type": "execute_result"
    }
   ],
   "source": [
    "# Read First letter using list comprehension\n",
    "products = [\"Automation\",\"Automicity\",\"Beverages\",\"Destination\",\"Estimation\"]\n",
    "[  v[0]   for v in products]"
   ]
  },
  {
   "cell_type": "code",
   "execution_count": null,
   "id": "d12831ff",
   "metadata": {},
   "outputs": [],
   "source": []
  },
  {
   "cell_type": "code",
   "execution_count": 6,
   "id": "0209910f",
   "metadata": {},
   "outputs": [
    {
     "data": {
      "text/plain": [
       "['Rotor', 'Autos', 'Bever', 'Deter', 'Trans']"
      ]
     },
     "execution_count": 6,
     "metadata": {},
     "output_type": "execute_result"
    }
   ],
   "source": [
    "# Read first five letters using list comprehension\n",
    "products = [\"Rotor\",\"Autospares\",\"Beverages\",\"Detergents\",\"Transmiter\"]\n",
    "\n",
    "[ v[0:5]  for v in products]"
   ]
  },
  {
   "cell_type": "code",
   "execution_count": 8,
   "id": "c909ccac",
   "metadata": {},
   "outputs": [
    {
     "data": {
      "text/plain": [
       "[('Rotor', 133),\n",
       " ('Rotor', 132),\n",
       " ('Rotor', 154),\n",
       " ('Rotor', 232),\n",
       " ('Rotor', 125),\n",
       " ('Autospares', 133),\n",
       " ('Autospares', 132),\n",
       " ('Autospares', 154),\n",
       " ('Autospares', 232),\n",
       " ('Autospares', 125),\n",
       " ('Beverages', 133),\n",
       " ('Beverages', 132),\n",
       " ('Beverages', 154),\n",
       " ('Beverages', 232),\n",
       " ('Beverages', 125),\n",
       " ('Detergents', 133),\n",
       " ('Detergents', 132),\n",
       " ('Detergents', 154),\n",
       " ('Detergents', 232),\n",
       " ('Detergents', 125),\n",
       " ('Transmiter', 133),\n",
       " ('Transmiter', 132),\n",
       " ('Transmiter', 154),\n",
       " ('Transmiter', 232),\n",
       " ('Transmiter', 125)]"
      ]
     },
     "execution_count": 8,
     "metadata": {},
     "output_type": "execute_result"
    }
   ],
   "source": [
    "# Iteration over more than one iterable in a list\n",
    "products = [\"Rotor\",\"Autospares\",\"Beverages\",\"Detergents\",\"Transmiter\"]\n",
    "Product_Price = [133,132,154,232,125]\n",
    "[(p,pr)    for p in products for pr in Product_Price]"
   ]
  },
  {
   "cell_type": "markdown",
   "id": "3a447221",
   "metadata": {},
   "source": [
    "# Inclass"
   ]
  },
  {
   "cell_type": "markdown",
   "id": "f0976426",
   "metadata": {},
   "source": [
    "### Use list comprehension to obtain the squre root of first 10 natural numbers."
   ]
  },
  {
   "cell_type": "code",
   "execution_count": 6,
   "id": "f9c755e5",
   "metadata": {},
   "outputs": [
    {
     "data": {
      "text/plain": [
       "[0.0, 1.0, 1.41, 1.73, 2.0, 2.24, 2.45, 2.65, 2.83, 3.0, 3.16]"
      ]
     },
     "execution_count": 6,
     "metadata": {},
     "output_type": "execute_result"
    }
   ],
   "source": [
    "[round((i**0.5),2) for i in range(0,11)]"
   ]
  },
  {
   "cell_type": "markdown",
   "id": "81f34e56",
   "metadata": {},
   "source": [
    "### Use list comprehension to find the used vowels in a given sentence and/or word (take the input from user)."
   ]
  },
  {
   "cell_type": "code",
   "execution_count": 12,
   "id": "c57776d5",
   "metadata": {},
   "outputs": [
    {
     "name": "stdout",
     "output_type": "stream",
     "text": [
      "Enter the sentence - This the Great Opportunity \n"
     ]
    },
    {
     "data": {
      "text/plain": [
       "['i', 'e', 'e', 'a', 'O', 'o', 'u', 'i']"
      ]
     },
     "execution_count": 12,
     "metadata": {},
     "output_type": "execute_result"
    }
   ],
   "source": [
    "n = input(\"Enter the sentence - \")\n",
    "v = \"aeiouAEIOU\"\n",
    "[ i  for i in n if i in v]"
   ]
  },
  {
   "cell_type": "markdown",
   "id": "35494e8b",
   "metadata": {},
   "source": [
    "### Use list comprehension to find even and odd numbers from first 20 whole numbers."
   ]
  },
  {
   "cell_type": "code",
   "execution_count": 27,
   "id": "3e1a710f",
   "metadata": {},
   "outputs": [
    {
     "name": "stdout",
     "output_type": "stream",
     "text": [
      "[2, 4, 6, 8, 10, 12, 14, 16, 18, 20]\n",
      "[1, 3, 5, 7, 9, 11, 13, 15, 17, 19]\n"
     ]
    }
   ],
   "source": [
    "print([i   for i in range(1,21) if i%2==0])\n",
    "print([i   for i in range(1,21) if i%2!=0])"
   ]
  },
  {
   "cell_type": "markdown",
   "id": "6fbc440d",
   "metadata": {},
   "source": [
    "### Use list comprehension to print numbers divisible by 2 and 3 in between 1 and 100."
   ]
  },
  {
   "cell_type": "code",
   "execution_count": 28,
   "id": "59d94420",
   "metadata": {},
   "outputs": [
    {
     "data": {
      "text/plain": [
       "[6, 12, 18, 24, 30, 36, 42, 48, 54, 60, 66, 72, 78, 84, 90, 96]"
      ]
     },
     "execution_count": 28,
     "metadata": {},
     "output_type": "execute_result"
    }
   ],
   "source": [
    "[  i  for i in range(1,101) if i%2==0 and i%3==0]"
   ]
  },
  {
   "cell_type": "markdown",
   "id": "80bbfbe1",
   "metadata": {},
   "source": [
    "### Use list comprehension to print table of 11 to 20 as shown below."
   ]
  },
  {
   "cell_type": "code",
   "execution_count": 35,
   "id": "3087c0ef",
   "metadata": {},
   "outputs": [
    {
     "data": {
      "text/plain": [
       "[[11, 22, 33, 44, 55, 66, 77, 88, 99, 110],\n",
       " [12, 24, 36, 48, 60, 72, 84, 96, 108, 120],\n",
       " [13, 26, 39, 52, 65, 78, 91, 104, 117, 130],\n",
       " [14, 28, 42, 56, 70, 84, 98, 112, 126, 140],\n",
       " [15, 30, 45, 60, 75, 90, 105, 120, 135, 150],\n",
       " [16, 32, 48, 64, 80, 96, 112, 128, 144, 160],\n",
       " [17, 34, 51, 68, 85, 102, 119, 136, 153, 170],\n",
       " [18, 36, 54, 72, 90, 108, 126, 144, 162, 180],\n",
       " [19, 38, 57, 76, 95, 114, 133, 152, 171, 190],\n",
       " [20, 40, 60, 80, 100, 120, 140, 160, 180, 200]]"
      ]
     },
     "execution_count": 35,
     "metadata": {},
     "output_type": "execute_result"
    }
   ],
   "source": [
    "[[(i*j)  for j in range(1,11)] for i in range(11,21)]\n"
   ]
  },
  {
   "cell_type": "markdown",
   "id": "f5c3cc7b",
   "metadata": {},
   "source": [
    "### Use list comprehension to find transpose of the matrix given below."
   ]
  },
  {
   "cell_type": "code",
   "execution_count": null,
   "id": "9684aa10",
   "metadata": {},
   "outputs": [],
   "source": [
    "1, 2\n",
    "3, 4\n",
    "5, 6\n",
    "7, 8"
   ]
  },
  {
   "cell_type": "code",
   "execution_count": null,
   "id": "70aeedda",
   "metadata": {},
   "outputs": [],
   "source": []
  },
  {
   "cell_type": "markdown",
   "id": "4c6b12f5",
   "metadata": {},
   "source": [
    "# Takehome"
   ]
  },
  {
   "cell_type": "markdown",
   "id": "15b64a52",
   "metadata": {},
   "source": [
    "### Use list comprehension to find words whose length is less than 5 from the given multi-dimensional list"
   ]
  },
  {
   "cell_type": "raw",
   "id": "3431e7dc",
   "metadata": {},
   "source": [
    "**astro = [['sky', 'sun', 'moon'], ['star', 'Jupiter', 'mars'], ['Jupiter', 'Neptune', 'Pluto']] **"
   ]
  },
  {
   "cell_type": "code",
   "execution_count": 54,
   "id": "f3aedea0",
   "metadata": {},
   "outputs": [
    {
     "data": {
      "text/plain": [
       "['sky', 'sun', 'moon', 'star', 'mars']"
      ]
     },
     "execution_count": 54,
     "metadata": {},
     "output_type": "execute_result"
    }
   ],
   "source": [
    "astro = [['sky', 'sun', 'moon'], ['star', 'Jupiter', 'mars'], ['Jupiter', 'Neptune', 'Pluto']]\n",
    "[  j  for i in astro for j in i if len(j)<5]"
   ]
  },
  {
   "cell_type": "markdown",
   "id": "ba24aac9",
   "metadata": {},
   "source": [
    "### Write a program to transpose a matrix using list comprehension"
   ]
  },
  {
   "cell_type": "code",
   "execution_count": null,
   "id": "53f93b22",
   "metadata": {},
   "outputs": [],
   "source": [
    "matrix=[[1,2],[3,4],[5,6],[7,8]]\n",
    "Output: [[1, 3, 5, 7], [2, 4, 6, 8]]"
   ]
  },
  {
   "cell_type": "code",
   "execution_count": 58,
   "id": "f62db87f",
   "metadata": {},
   "outputs": [
    {
     "data": {
      "text/plain": [
       "[[1, 3, 5, 7], [2, 4, 6, 8]]"
      ]
     },
     "execution_count": 58,
     "metadata": {},
     "output_type": "execute_result"
    }
   ],
   "source": [
    "matrix=[[1,2],[3,4],[5,6],[7,8]]\n",
    "[ [j[i]   for j in matrix] for i in range(2)]"
   ]
  },
  {
   "cell_type": "code",
   "execution_count": null,
   "id": "796c528f",
   "metadata": {},
   "outputs": [],
   "source": []
  },
  {
   "cell_type": "code",
   "execution_count": null,
   "id": "7e800d2c",
   "metadata": {},
   "outputs": [],
   "source": []
  },
  {
   "cell_type": "code",
   "execution_count": null,
   "id": "b6935578",
   "metadata": {},
   "outputs": [],
   "source": []
  },
  {
   "cell_type": "code",
   "execution_count": null,
   "id": "cce22052",
   "metadata": {},
   "outputs": [],
   "source": []
  },
  {
   "cell_type": "code",
   "execution_count": null,
   "id": "73005669",
   "metadata": {},
   "outputs": [],
   "source": []
  },
  {
   "cell_type": "code",
   "execution_count": null,
   "id": "748ce03f",
   "metadata": {},
   "outputs": [],
   "source": []
  },
  {
   "cell_type": "code",
   "execution_count": null,
   "id": "142caf9b",
   "metadata": {},
   "outputs": [],
   "source": []
  },
  {
   "cell_type": "code",
   "execution_count": null,
   "id": "655143c7",
   "metadata": {},
   "outputs": [],
   "source": []
  },
  {
   "cell_type": "code",
   "execution_count": null,
   "id": "0ba6e55b",
   "metadata": {},
   "outputs": [],
   "source": []
  }
 ],
 "metadata": {
  "kernelspec": {
   "display_name": "Python 3 (ipykernel)",
   "language": "python",
   "name": "python3"
  },
  "language_info": {
   "codemirror_mode": {
    "name": "ipython",
    "version": 3
   },
   "file_extension": ".py",
   "mimetype": "text/x-python",
   "name": "python",
   "nbconvert_exporter": "python",
   "pygments_lexer": "ipython3",
   "version": "3.10.9"
  }
 },
 "nbformat": 4,
 "nbformat_minor": 5
}
